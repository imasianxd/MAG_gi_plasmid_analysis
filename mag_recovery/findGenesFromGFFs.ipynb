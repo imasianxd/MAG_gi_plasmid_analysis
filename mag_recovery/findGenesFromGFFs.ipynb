{
 "cells": [
  {
   "cell_type": "code",
   "execution_count": 78,
   "metadata": {},
   "outputs": [],
   "source": [
    "import os\n",
    "import pandas as pd\n",
    "import matplotlib as mp\n",
    "import numpy as np\n",
    "import pprint\n",
    "from BCBio import GFF\n",
    "from Bio.SeqFeature import FeatureLocation\n",
    "\n",
    "sourceGffDir = \"./gffs/source/\"\n",
    "binGffDir = \"./gffs/bin/\""
   ]
  },
  {
   "cell_type": "code",
   "execution_count": 9,
   "metadata": {},
   "outputs": [],
   "source": []
  },
  {
   "cell_type": "code",
   "execution_count": 16,
   "metadata": {},
   "outputs": [
    {
     "name": "stdout",
     "output_type": "stream",
     "text": [
      "{'gff_id': {('NC_004337.2',): 4834},\n",
      " 'gff_source': {('Aragorn:1.2',): 97,\n",
      "                ('Prodigal:2.6',): 4715,\n",
      "                ('barrnap:0.9',): 22},\n",
      " 'gff_source_type': {('Aragorn:1.2', 'tRNA'): 96,\n",
      "                     ('Aragorn:1.2', 'tmRNA'): 1,\n",
      "                     ('Prodigal:2.6', 'CDS'): 4715,\n",
      "                     ('barrnap:0.9', 'rRNA'): 22},\n",
      " 'gff_type': {('CDS',): 4715, ('rRNA',): 22, ('tRNA',): 96, ('tmRNA',): 1}}\n"
     ]
    }
   ],
   "source": [
    "#prints summary information about gff\n",
    "for gff in os.listdir(sourceGffDir):\n",
    "    examiner = GFF.GFFExaminer()\n",
    "    in_handle = open(sourceGffDir + gff)\n",
    "    pprint.pprint(examiner.available_limits(in_handle))\n",
    "    in_handle.close()\n",
    "    break"
   ]
  },
  {
   "cell_type": "code",
   "execution_count": 84,
   "metadata": {},
   "outputs": [],
   "source": [
    "#what exactly does this thing need to do.\n",
    "#1. get list of genes and their start and stops\n",
    "#input: gffs of annotation of source genome\n",
    "#output: gene id, start, stop|\n",
    "\n",
    "def parseGffIntoTsv(gffDir, outputDir):\n",
    "    for gff in os.listdir(gffDir):\n",
    "\n",
    "        #limitInfo = dict(gff_type = [\"CDS\"])\n",
    "        in_handle = open(gffDir + gff)\n",
    "        gffRecord = GFF.parse(in_handle)\n",
    "        outputList = []\n",
    "        outputList.append(\"GeneID\\tContigID\\tStart\\tEnd\")\n",
    "\n",
    "        for index, record in enumerate (gffRecord):\n",
    "            #record is the seqfeature object\n",
    "            #print(dir(record))\n",
    "            #print(record.id)\n",
    "            for feature in record.features:\n",
    "                #print(feature)\n",
    "                if (feature.type == \"CDS\"):\n",
    "                    contig = record.id\n",
    "                    id = feature.id\n",
    "                    #name = feature.qualifiers[\"Name\"]\n",
    "                    start =(feature.location.start)\n",
    "                    stop = feature.location.end\n",
    "                    dataString = str(id) + \"\\t\" + str(contig) + \"\\t\" + str(start)  + \"\\t\" + str(stop)\n",
    "                    outputList.append(dataString)\n",
    "        with open(outputDir + gff + \".tsv\", 'w') as f:\n",
    "            for item in outputList:\n",
    "                f.write(\"%s\\n\" % item)\n",
    "\n",
    "        in_handle.close()\n",
    "\n",
    "parseGffIntoTsv(sourceGffDir, \"./genes/source/\")\n",
    "parseGffIntoTsv(binGffDir, \"./genes/bin/\")\n"
   ]
  },
  {
   "cell_type": "code",
   "execution_count": 82,
   "metadata": {},
   "outputs": [],
   "source": []
  },
  {
   "cell_type": "code",
   "execution_count": null,
   "metadata": {},
   "outputs": [],
   "source": []
  }
 ],
 "metadata": {
  "kernelspec": {
   "display_name": "Python 3",
   "language": "python",
   "name": "python3"
  },
  "language_info": {
   "codemirror_mode": {
    "name": "ipython",
    "version": 3
   },
   "file_extension": ".py",
   "mimetype": "text/x-python",
   "name": "python",
   "nbconvert_exporter": "python",
   "pygments_lexer": "ipython3",
   "version": "3.7.2"
  }
 },
 "nbformat": 4,
 "nbformat_minor": 2
}
